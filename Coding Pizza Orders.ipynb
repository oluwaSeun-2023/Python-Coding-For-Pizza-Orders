{
 "cells": [
  {
   "cell_type": "code",
   "execution_count": 1,
   "id": "40120f19",
   "metadata": {},
   "outputs": [
    {
     "name": "stdout",
     "output_type": "stream",
     "text": [
      "Welcome to Python Pizza Deliveries\n"
     ]
    }
   ],
   "source": [
    "print('Welcome to Python Pizza Deliveries')"
   ]
  },
  {
   "cell_type": "code",
   "execution_count": 2,
   "id": "f20f995c",
   "metadata": {},
   "outputs": [
    {
     "name": "stdout",
     "output_type": "stream",
     "text": [
      "What size of pizza would you like?Medium\n"
     ]
    },
    {
     "data": {
      "text/plain": [
       "'Medium'"
      ]
     },
     "execution_count": 2,
     "metadata": {},
     "output_type": "execute_result"
    }
   ],
   "source": [
    "size = (\"Small, Medium, Large\")\n",
    "input(\"What size of pizza would you like?\")"
   ]
  },
  {
   "cell_type": "code",
   "execution_count": 3,
   "id": "1718708e",
   "metadata": {},
   "outputs": [
    {
     "name": "stdout",
     "output_type": "stream",
     "text": [
      "Would you like to add pepperoni?Yes\n"
     ]
    },
    {
     "data": {
      "text/plain": [
       "'Yes'"
      ]
     },
     "execution_count": 3,
     "metadata": {},
     "output_type": "execute_result"
    }
   ],
   "source": [
    "add_pepperoni = (\"Yes/No\")\n",
    "input(\"Would you like to add pepperoni?\")"
   ]
  },
  {
   "cell_type": "code",
   "execution_count": 4,
   "id": "7737df5c",
   "metadata": {},
   "outputs": [
    {
     "name": "stdout",
     "output_type": "stream",
     "text": [
      "Would you like to add cheese?No\n"
     ]
    },
    {
     "data": {
      "text/plain": [
       "'No'"
      ]
     },
     "execution_count": 4,
     "metadata": {},
     "output_type": "execute_result"
    }
   ],
   "source": [
    "extra_cheese = (\"Yes/No\")\n",
    "input(\"Would you like to add cheese?\")"
   ]
  },
  {
   "cell_type": "code",
   "execution_count": 5,
   "id": "24d6d44d",
   "metadata": {},
   "outputs": [
    {
     "name": "stdout",
     "output_type": "stream",
     "text": [
      "Invalid pizza size. Please choose Small, Medium, or Large.\n"
     ]
    }
   ],
   "source": [
    "if size.lower() == \"small\":\n",
    "    bill +=15\n",
    "elif size.lower() == \"medium\":\n",
    "    bill +=20\n",
    "elif size.lower() == \"large\":\n",
    "    bill +=25\n",
    "else:\n",
    "    print(\"Invalid pizza size. Please choose Small, Medium, or Large.\")"
   ]
  },
  {
   "cell_type": "code",
   "execution_count": 6,
   "id": "5e149a2e",
   "metadata": {},
   "outputs": [],
   "source": [
    "if add_pepperoni.lower() == \"yes\":\n",
    "    if size.lower() == \"small\":\n",
    "        bill +=2\n",
    "    elif size.lower() in [\"medium\", \"large\"]:\n",
    "        bill +=3\n",
    "    "
   ]
  },
  {
   "cell_type": "code",
   "execution_count": 7,
   "id": "17dbb8ef",
   "metadata": {},
   "outputs": [],
   "source": [
    "if extra_cheese.lower() == \"yes\":\n",
    "    bill +=1"
   ]
  },
  {
   "cell_type": "code",
   "execution_count": 8,
   "id": "34e142eb",
   "metadata": {},
   "outputs": [
    {
     "name": "stdout",
     "output_type": "stream",
     "text": [
      "23\n"
     ]
    }
   ],
   "source": [
    "Medium = 20\n",
    "add_pepperoni = 3\n",
    "Bill = (Medium+add_pepperoni)\n",
    "print(Bill)"
   ]
  },
  {
   "cell_type": "code",
   "execution_count": 9,
   "id": "7e22f291",
   "metadata": {},
   "outputs": [
    {
     "name": "stdout",
     "output_type": "stream",
     "text": [
      "Your final bill is: $[23]\n"
     ]
    }
   ],
   "source": [
    "print(\"Your final bill is: $[23]\")"
   ]
  }
 ],
 "metadata": {
  "kernelspec": {
   "display_name": "Python 3 (ipykernel)",
   "language": "python",
   "name": "python3"
  },
  "language_info": {
   "codemirror_mode": {
    "name": "ipython",
    "version": 3
   },
   "file_extension": ".py",
   "mimetype": "text/x-python",
   "name": "python",
   "nbconvert_exporter": "python",
   "pygments_lexer": "ipython3",
   "version": "3.10.9"
  }
 },
 "nbformat": 4,
 "nbformat_minor": 5
}
